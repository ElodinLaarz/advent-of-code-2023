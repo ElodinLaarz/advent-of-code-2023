{
 "cells": [
  {
   "cell_type": "code",
   "execution_count": 1,
   "metadata": {},
   "outputs": [],
   "source": [
    "import re\n",
    "\n",
    "str_to_digit = {\n",
    "    \"one\":1,\n",
    "    \"two\":2,\n",
    "    \"three\":3,\n",
    "    \"four\":4,\n",
    "    \"five\":5,\n",
    "    \"six\":6,\n",
    "    \"seven\":7,\n",
    "    \"eight\":8,\n",
    "    \"nine\":9,\n",
    "    \"eno\":1,\n",
    "    \"owt\":2,\n",
    "    \"eerht\":3,\n",
    "    \"ruof\":4,\n",
    "    \"evif\":5,\n",
    "    \"xis\":6,\n",
    "    \"neves\":7,\n",
    "    \"thgie\":8,\n",
    "    \"enin\":9\n",
    "}\n",
    "\n",
    "def first_digit(line:str,allow_strings:bool,search_for:str=r\"(one|two|three|four|five|six|seven|eight|nine)\") -> int:\n",
    "    _first_numeric = re.compile(r'\\d')\n",
    "    _numeric_found = _first_numeric.search(line)\n",
    "    _first_alpha = re.compile(search_for)\n",
    "    _alpha_found = _first_alpha.search(line)\n",
    "    if (not allow_strings) or (_alpha_found is None) or (_numeric_found.span()[0] < _alpha_found.span()[0]):\n",
    "        return int(_numeric_found.group())\n",
    "    return str_to_digit[_alpha_found.group()]\n",
    "    \n",
    "def last_digit(line:str,allow_strings:bool) -> int:\n",
    "    return first_digit(line[::-1],allow_strings,r\"(eno|owt|eerht|ruof|evif|xis|neves|thgie|enin)\")\n",
    "\n",
    "def find_sum(fn: str,allow_strings:bool=False) -> int:\n",
    "    with open(fn, \"r\") as f:\n",
    "        sum:int = 0\n",
    "        for line in f.readlines():\n",
    "            first = first_digit(line,allow_strings)\n",
    "            second = last_digit(line,allow_strings)\n",
    "            sum += 10*first + second\n",
    "    return sum"
   ]
  },
  {
   "cell_type": "code",
   "execution_count": 2,
   "metadata": {},
   "outputs": [
    {
     "data": {
      "text/plain": [
       "142"
      ]
     },
     "execution_count": 2,
     "metadata": {},
     "output_type": "execute_result"
    }
   ],
   "source": [
    "find_sum(\"input_data/test1.txt\")"
   ]
  },
  {
   "cell_type": "code",
   "execution_count": 3,
   "metadata": {},
   "outputs": [
    {
     "data": {
      "text/plain": [
       "54667"
      ]
     },
     "execution_count": 3,
     "metadata": {},
     "output_type": "execute_result"
    }
   ],
   "source": [
    "find_sum(\"input_data/day1.txt\")"
   ]
  },
  {
   "cell_type": "code",
   "execution_count": 4,
   "metadata": {},
   "outputs": [
    {
     "data": {
      "text/plain": [
       "54203"
      ]
     },
     "execution_count": 4,
     "metadata": {},
     "output_type": "execute_result"
    }
   ],
   "source": [
    "find_sum(\"input_data/day1.txt\",allow_strings=True)"
   ]
  },
  {
   "cell_type": "code",
   "execution_count": null,
   "metadata": {},
   "outputs": [],
   "source": []
  }
 ],
 "metadata": {
  "kernelspec": {
   "display_name": "Python 3",
   "language": "python",
   "name": "python3"
  },
  "language_info": {
   "codemirror_mode": {
    "name": "ipython",
    "version": 3
   },
   "file_extension": ".py",
   "mimetype": "text/x-python",
   "name": "python",
   "nbconvert_exporter": "python",
   "pygments_lexer": "ipython3",
   "version": "3.10.11"
  }
 },
 "nbformat": 4,
 "nbformat_minor": 2
}
