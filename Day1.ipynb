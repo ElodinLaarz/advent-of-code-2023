{
 "cells": [
  {
   "cell_type": "code",
   "execution_count": 21,
   "metadata": {},
   "outputs": [],
   "source": [
    "import re\n",
    "\n",
    "str_to_digit = {\n",
    "    \"one\":1,\n",
    "    \"two\":2,\n",
    "    \"three\":3,\n",
    "    \"four\":4,\n",
    "    \"five\":5,\n",
    "    \"six\":6,\n",
    "    \"seven\":7,\n",
    "    \"eight\":8,\n",
    "    \"nine\":9,\n",
    "    \"eno\":1,\n",
    "    \"owt\":2,\n",
    "    \"eerht\":3,\n",
    "    \"ruof\":4,\n",
    "    \"evif\":5,\n",
    "    \"xis\":6,\n",
    "    \"neves\":7,\n",
    "    \"thgie\":8,\n",
    "    \"enin\":9\n",
    "}\n",
    "\n",
    "def first_digit(line:str,search_for:str=r\"(one|two|three|four|five|six|seven|eight|nine)\") -> int:\n",
    "    _first_numeric = re.compile(r'\\d')\n",
    "    _first_alpha = re.compile(search_for)\n",
    "    _numeric_found = _first_numeric.search(line)\n",
    "    _alpha_found = _first_alpha.search(line)\n",
    "    if _numeric_found is None:\n",
    "        return str_to_digit[_alpha_found.group()]\n",
    "    elif _alpha_found is None:\n",
    "        return int(_numeric_found.group())\n",
    "    if _numeric_found.span()[0] < _alpha_found.span()[0]:\n",
    "        return int(_numeric_found.group())\n",
    "    return str_to_digit[_alpha_found.group()]\n",
    "\n",
    "def last_digit(line:str) -> int:\n",
    "    return first_digit(line[::-1],r\"(eno|owt|eerht|ruof|evif|xis|neves|thgie|enin)\")\n",
    "\n",
    "def find_sum(fn: str,allow_strings:bool=False) -> int:\n",
    "    with open(fn, \"r\") as f:\n",
    "        sum:int = 0\n",
    "        for line in f.readlines():\n",
    "            first = first_digit(line)\n",
    "            second = last_digit(line)\n",
    "            sum += 10*first + second\n",
    "    return sum"
   ]
  },
  {
   "cell_type": "code",
   "execution_count": 22,
   "metadata": {},
   "outputs": [
    {
     "data": {
      "text/plain": [
       "142"
      ]
     },
     "execution_count": 22,
     "metadata": {},
     "output_type": "execute_result"
    }
   ],
   "source": [
    "find_sum(\"input_data/test1.txt\")"
   ]
  },
  {
   "cell_type": "code",
   "execution_count": 23,
   "metadata": {},
   "outputs": [
    {
     "data": {
      "text/plain": [
       "54203"
      ]
     },
     "execution_count": 23,
     "metadata": {},
     "output_type": "execute_result"
    }
   ],
   "source": [
    "find_sum(\"input_data/day1.txt\")"
   ]
  },
  {
   "cell_type": "code",
   "execution_count": 14,
   "metadata": {},
   "outputs": [
    {
     "name": "stdout",
     "output_type": "stream",
     "text": [
      "eight\n"
     ]
    }
   ],
   "source": [
    "import re\n",
    "\n",
    "s = \"\"\"two1nine\n",
    "eightwothree\n",
    "abcone2threexyz\n",
    "xtwone3four\n",
    "4nineeightseven2\n",
    "zoneight234\n",
    "7pqrstsixteen\n",
    "\"\"\"\n",
    "print(re.search(r\"(one|three|four|five|six|seven|eight)\", s).group())"
   ]
  },
  {
   "cell_type": "code",
   "execution_count": null,
   "metadata": {},
   "outputs": [],
   "source": []
  }
 ],
 "metadata": {
  "kernelspec": {
   "display_name": "Python 3",
   "language": "python",
   "name": "python3"
  },
  "language_info": {
   "codemirror_mode": {
    "name": "ipython",
    "version": 3
   },
   "file_extension": ".py",
   "mimetype": "text/x-python",
   "name": "python",
   "nbconvert_exporter": "python",
   "pygments_lexer": "ipython3",
   "version": "3.10.11"
  }
 },
 "nbformat": 4,
 "nbformat_minor": 2
}
