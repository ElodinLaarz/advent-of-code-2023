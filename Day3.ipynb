{
 "cells": [
  {
   "cell_type": "code",
   "execution_count": null,
   "metadata": {},
   "outputs": [],
   "source": [
    "from collections import namedtuple\n",
    "from collections import defaultdict\n",
    "\n",
    "NumberLocation = namedtuple(\n",
    "    \"NumberLocation\", [\"line_num\", \"start_index\", \"end_index\"])\n",
    "\n",
    "# You sneaky little '\\n', you.\n",
    "ignore_symbols = set(list(\"0123456789.\\n\"))\n",
    "\n",
    "\n",
    "def valid_indicies(l: list[list], i: int, j: int) -> bool:\n",
    "    return i >= 0 and i < len(l) and j >= 0 and j < len(l[i])\n",
    "\n",
    "\n",
    "def is_part_number(schematic_lines: list[str], nl: NumberLocation, gear_ratios: defaultdict(list[int])) -> bool:\n",
    "    _is_part_number = False\n",
    "    _number_val = int(schematic_lines[nl.line_num]\n",
    "                      [nl.start_index:nl.end_index+1])\n",
    "    for _row in range(nl.line_num-1, nl.line_num+2):\n",
    "        for _column in range(nl.start_index-1, nl.end_index+2):\n",
    "            if valid_indicies(schematic_lines, _row, _column) and schematic_lines[_row][_column] not in ignore_symbols:\n",
    "                _is_part_number = True\n",
    "                gear_ratios[(int(_row), int(_column))].append(_number_val)\n",
    "    return _is_part_number\n",
    "\n",
    "\n",
    "def find_numbers_in_line(l: str, cur_line: int) -> list[NumberLocation]:\n",
    "    _nls = []\n",
    "    _reading_digit = False\n",
    "    _start_index = 0\n",
    "    _end_index = 0\n",
    "    for _ix, _char in enumerate(l):\n",
    "        if _char.isdigit():\n",
    "            if not _reading_digit:\n",
    "                _start_index = _ix\n",
    "                _end_index = _ix\n",
    "                _reading_digit = True\n",
    "            else:\n",
    "                _end_index = _ix\n",
    "        elif not _char.isdigit():\n",
    "            if _reading_digit:\n",
    "                _reading_digit = False\n",
    "                _nls.append(NumberLocation(cur_line, _start_index, _end_index))\n",
    "    if _reading_digit:\n",
    "        _nls.append(NumberLocation(cur_line, _start_index, _end_index))\n",
    "    return _nls\n",
    "\n",
    "\n",
    "def find_numbers(schematic_lines: list[str]) -> list[int]:\n",
    "    _numbers = []\n",
    "    for _line_num, _line in enumerate(schematic_lines):\n",
    "        _numbers.append(find_numbers_in_line(_line, _line_num))\n",
    "    return _numbers\n",
    "\n",
    "\n",
    "def part_numbers(schematic_lines: list[str], gear_ratios: defaultdict(list[int])) -> list[int]:\n",
    "    _nls = find_numbers(schematic_lines)\n",
    "    _ns = []\n",
    "    for _line_num in range(len(_nls)):\n",
    "        for _nl in _nls[_line_num]:\n",
    "            if is_part_number(schematic_lines, _nl, gear_ratios):\n",
    "                _ns.append(\n",
    "                    int(schematic_lines[_nl.line_num][_nl.start_index:_nl.end_index+1]))\n",
    "    return _ns\n",
    "\n",
    "\n",
    "def sum_of_part_numbers(schematic_lines: list[str], gear_ratios: defaultdict(list[int]) = defaultdict(list[int])) -> int:\n",
    "    return sum(part_numbers(schematic_lines, gear_ratios))\n",
    "\n",
    "\n",
    "def sum_of_gear_ratios(schematic_lines: list[str]) -> int:\n",
    "    gear_ratios = defaultdict(list[int])\n",
    "    _sum_of_gear_ratios = 0\n",
    "    part_numbers(schematic_lines, gear_ratios)\n",
    "    for _line_num, _char_index in gear_ratios.keys():\n",
    "        if schematic_lines[_line_num][_char_index] == \"*\" and len(gear_ratios[(_line_num, _char_index)]) == 2:\n",
    "            _sum_of_gear_ratios += gear_ratios[(_line_num, _char_index)][0] * \\\n",
    "                gear_ratios[(_line_num, _char_index)][1]\n",
    "    return _sum_of_gear_ratios"
   ]
  },
  {
   "cell_type": "code",
   "execution_count": null,
   "metadata": {},
   "outputs": [],
   "source": [
    "with open(\"input_data/test3.txt\", \"r\") as f:\n",
    "    print(sum_of_part_numbers(f.readlines()))"
   ]
  },
  {
   "cell_type": "code",
   "execution_count": null,
   "metadata": {},
   "outputs": [],
   "source": [
    "with open(\"input_data/day3.txt\", \"r\") as f:\n",
    "    print(sum_of_part_numbers(f.readlines()))"
   ]
  },
  {
   "cell_type": "code",
   "execution_count": null,
   "metadata": {},
   "outputs": [],
   "source": [
    "with open(\"input_data/test3.txt\", \"r\") as f:\n",
    "    print(sum_of_gear_ratios(f.readlines()))"
   ]
  },
  {
   "cell_type": "code",
   "execution_count": null,
   "metadata": {},
   "outputs": [],
   "source": [
    "with open(\"input_data/day3.txt\", \"r\") as f:\n",
    "    print(sum_of_gear_ratios(f.readlines()))"
   ]
  },
  {
   "cell_type": "code",
   "execution_count": null,
   "metadata": {},
   "outputs": [],
   "source": []
  }
 ],
 "metadata": {
  "kernelspec": {
   "display_name": "Python 3",
   "language": "python",
   "name": "python3"
  },
  "language_info": {
   "codemirror_mode": {
    "name": "ipython",
    "version": 3
   },
   "file_extension": ".py",
   "mimetype": "text/x-python",
   "name": "python",
   "nbconvert_exporter": "python",
   "pygments_lexer": "ipython3",
   "version": "3.10.11"
  }
 },
 "nbformat": 4,
 "nbformat_minor": 2
}
