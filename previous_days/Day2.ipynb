{
 "cells": [
  {
   "cell_type": "code",
   "execution_count": null,
   "metadata": {},
   "outputs": [],
   "source": [
    "from collections import namedtuple\n",
    "\n",
    "Game = namedtuple(\"Game\", \"id, blue, green, red\")\n",
    "\n",
    "\n",
    "def max_colors(line: str) -> Game:\n",
    "    _line = line.strip().split(\":\")\n",
    "    if len(_line) != 2:\n",
    "        print(\"Error: line not in correct format\")\n",
    "        return None\n",
    "    _game_num = int(_line[0].split(\" \")[1])\n",
    "    _rounds = _line[1].strip().split(\";\")\n",
    "    _max_colors = {\"red\": 0, \"green\": 0, \"blue\": 0}\n",
    "    for _round in _rounds:\n",
    "        for _color_count in _round.strip().split(\",\"):\n",
    "            _count, _color = _color_count.strip().split(\" \")\n",
    "            if int(_count) > _max_colors[_color]:\n",
    "                _max_colors[_color] = int(_count)\n",
    "    return Game(_game_num, _max_colors[\"blue\"], _max_colors[\"green\"], _max_colors[\"red\"])\n",
    "\n",
    "\n",
    "def sum_of_possible_games(fn: str, color_restrictions: Game) -> int:\n",
    "    total_of_indicies = 0\n",
    "    with open(fn) as f:\n",
    "        for line in f.readlines():\n",
    "            g = max_colors(line)\n",
    "            if g.blue <= color_restrictions.blue and g.green <= color_restrictions.green and g.red <= color_restrictions.red:\n",
    "                total_of_indicies += g.id\n",
    "    return total_of_indicies\n",
    "\n",
    "\n",
    "def sum_of_powers_of_cubes(fn: str):\n",
    "    total = 0\n",
    "    with open(fn) as f:\n",
    "        for line in f.readlines():\n",
    "            g = max_colors(line)\n",
    "            total += g.blue*g.green*g.red\n",
    "    return total"
   ]
  },
  {
   "cell_type": "code",
   "execution_count": null,
   "metadata": {},
   "outputs": [],
   "source": [
    "sum_of_possible_games(\"input_data/test2.txt\", Game(-1, 14, 13, 12))"
   ]
  },
  {
   "cell_type": "code",
   "execution_count": null,
   "metadata": {},
   "outputs": [],
   "source": [
    "sum_of_possible_games(\"input_data/day2.txt\", Game(-1, 14, 13, 12))"
   ]
  },
  {
   "cell_type": "code",
   "execution_count": null,
   "metadata": {},
   "outputs": [],
   "source": [
    "sum_of_powers_of_cubes(\"input_data/test2.txt\")"
   ]
  },
  {
   "cell_type": "code",
   "execution_count": null,
   "metadata": {},
   "outputs": [],
   "source": [
    "sum_of_powers_of_cubes(\"input_data/day2.txt\")"
   ]
  },
  {
   "cell_type": "code",
   "execution_count": null,
   "metadata": {},
   "outputs": [],
   "source": []
  }
 ],
 "metadata": {
  "kernelspec": {
   "display_name": "Python 3",
   "language": "python",
   "name": "python3"
  },
  "language_info": {
   "codemirror_mode": {
    "name": "ipython",
    "version": 3
   },
   "file_extension": ".py",
   "mimetype": "text/x-python",
   "name": "python",
   "nbconvert_exporter": "python",
   "pygments_lexer": "ipython3",
   "version": "3.10.11"
  }
 },
 "nbformat": 4,
 "nbformat_minor": 2
}
